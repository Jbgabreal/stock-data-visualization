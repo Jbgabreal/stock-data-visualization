{
 "cells": [
  {
   "cell_type": "markdown",
   "id": "4f47f386-efe8-43ba-9da0-9c8e2c1ac5a6",
   "metadata": {},
   "source": [
    "<p style=\"text-align:center\">\n",
    "    <a href=\"https://skills.network/?utm_medium=Exinfluencer&utm_source=Exinfluencer&utm_content=000026UJ&utm_term=10006555&utm_id=NA-SkillsNetwork-Channel-SkillsNetworkCoursesIBMDeveloperSkillsNetworkPY0220ENSkillsNetwork900-2022-01-01\" target=\"_blank\">\n",
    "    <img src=\"https://cf-courses-data.s3.us.cloud-object-storage.appdomain.cloud/assets/logos/SN_web_lightmode.png\" width=\"200\" alt=\"Skills Network Logo\">\n",
    "    </a>\n",
    "</p>\n"
   ]
  },
  {
   "cell_type": "markdown",
   "id": "a496f504-09d2-4f17-b0ec-57334848fd60",
   "metadata": {},
   "source": [
    "<h1>Extracting and Visualizing Stock Data</h1>\n",
    "<h2>Description</h2>\n"
   ]
  },
  {
   "cell_type": "markdown",
   "id": "124bff84-6a4f-44ab-b9cd-39e6e218025f",
   "metadata": {},
   "source": [
    "Extracting essential data from a dataset and displaying it is a necessary part of data science; therefore individuals can make correct decisions based on the data. In this assignment, you will extract some stock data, you will then display this data in a graph.\n"
   ]
  },
  {
   "cell_type": "markdown",
   "id": "0fd3a4c1-0d3c-48ee-9465-97082406cf50",
   "metadata": {},
   "source": [
    "<h2>Table of Contents</h2>\n",
    "<div class=\"alert alert-block alert-info\" style=\"margin-top: 20px\">\n",
    "    <ul>\n",
    "        <li>Define a Function that Makes a Graph</li>\n",
    "        <li>Question 1: Use yfinance to Extract Stock Data</li>\n",
    "        <li>Question 2: Use Webscraping to Extract Tesla Revenue Data</li>\n",
    "        <li>Question 3: Use yfinance to Extract Stock Data</li>\n",
    "        <li>Question 4: Use Webscraping to Extract GME Revenue Data</li>\n",
    "        <li>Question 5: Plot Tesla Stock Graph</li>\n",
    "        <li>Question 6: Plot GameStop Stock Graph</li>\n",
    "    </ul>\n",
    "<p>\n",
    "    Estimated Time Needed: <strong>30 min</strong></p>\n",
    "</div>\n",
    "\n",
    "<hr>\n"
   ]
  },
  {
   "cell_type": "markdown",
   "id": "a631b37b-daea-4590-9b68-3322ca405593",
   "metadata": {},
   "source": [
    "***Note***:- If you are working Locally using anaconda, please uncomment the following code and execute it.\n",
    "Use the version as per your python version.\n"
   ]
  },
  {
   "cell_type": "code",
   "execution_count": null,
   "id": "5db6ed12-1b2c-408e-a037-204a7fdb1464",
   "metadata": {},
   "outputs": [],
   "source": [
    "!pip install yfinance\n",
    "!pip install bs4\n",
    "!pip install nbformat\n",
    "!pip install --upgrade plotly\n",
    "!pip install -U kaleido\n"
   ]
  },
  {
   "cell_type": "code",
   "execution_count": null,
   "id": "6a8430da-ea43-4234-8382-69db23cecba3",
   "metadata": {},
   "outputs": [],
   "source": [
    "!pip install lxml\n"
   ]
  },
  {
   "cell_type": "code",
   "execution_count": null,
   "id": "105578d7-8db1-42ae-9979-7d7e6f1eebbd",
   "metadata": {},
   "outputs": [],
   "source": [
    "import yfinance as yf\n",
    "import pandas as pd\n",
    "import requests\n",
    "from bs4 import BeautifulSoup\n",
    "import plotly.graph_objects as go\n",
    "from plotly.subplots import make_subplots"
   ]
  },
  {
   "cell_type": "code",
   "execution_count": null,
   "id": "8dbc5658-8caf-4a76-be04-8a7697a39c7c",
   "metadata": {},
   "outputs": [],
   "source": [
    "import plotly.io as pio\n",
    "pio.renderers.default = \"iframe\""
   ]
  },
  {
   "cell_type": "markdown",
   "id": "78aa3d18-1ea0-42f0-a2b8-976f1c43941b",
   "metadata": {},
   "source": [
    "In Python, you can ignore warnings using the warnings module. You can use the filterwarnings function to filter or ignore specific warning messages or categories.\n"
   ]
  },
  {
   "cell_type": "code",
   "execution_count": null,
   "id": "7cc67ceb-75db-4309-9ec4-1372c706b066",
   "metadata": {},
   "outputs": [],
   "source": [
    "import warnings\n",
    "# Ignore all warnings\n",
    "warnings.filterwarnings(\"ignore\", category=FutureWarning)"
   ]
  },
  {
   "cell_type": "markdown",
   "id": "235322f1-6c27-4c22-bc0e-45f831d63b78",
   "metadata": {},
   "source": [
    "## Define Graphing Function\n"
   ]
  },
  {
   "cell_type": "markdown",
   "id": "640f34ec-a502-4419-91f6-89cb02b678ee",
   "metadata": {},
   "source": [
    "In this section, we define the function `make_graph`. **You don't have to know how the function works, you should only care about the inputs. It takes a dataframe with stock data (dataframe must contain Date and Close columns), a dataframe with revenue data (dataframe must contain Date and Revenue columns), and the name of the stock.**\n"
   ]
  },
  {
   "cell_type": "code",
   "execution_count": null,
   "id": "65c55cb0-e4bb-46ce-9e4a-2b6494a5b4db",
   "metadata": {},
   "outputs": [],
   "source": [
    "def make_graph(stock_data, revenue_data, stock):\n",
    "    fig = make_subplots(rows=2, cols=1, shared_xaxes=True, subplot_titles=(\"Historical Share Price\", \"Historical Revenue\"), vertical_spacing = .3)\n",
    "    stock_data_specific = stock_data[stock_data.Date <= '2021-06-14']\n",
    "    revenue_data_specific = revenue_data[revenue_data.Date <= '2021-04-30']\n",
    "    fig.add_trace(go.Scatter(x=pd.to_datetime(stock_data_specific.Date, infer_datetime_format=True), y=stock_data_specific.Close.astype(\"float\"), name=\"Share Price\"), row=1, col=1)\n",
    "    fig.add_trace(go.Scatter(x=pd.to_datetime(revenue_data_specific.Date, infer_datetime_format=True), y=revenue_data_specific.Revenue.astype(\"float\"), name=\"Revenue\"), row=2, col=1)\n",
    "    fig.update_xaxes(title_text=\"Date\", row=1, col=1)\n",
    "    fig.update_xaxes(title_text=\"Date\", row=2, col=1)\n",
    "    fig.update_yaxes(title_text=\"Price ($US)\", row=1, col=1)\n",
    "    fig.update_yaxes(title_text=\"Revenue ($US Millions)\", row=2, col=1)\n",
    "    fig.update_layout(showlegend=False,\n",
    "    height=900,\n",
    "    title=stock,\n",
    "    xaxis_rangeslider_visible=True)\n",
    "    fig.show()\n",
    "    from IPython.display import display, HTML\n",
    "    fig_html = fig.to_html()\n",
    "    display(HTML(fig_html))"
   ]
  },
  {
   "cell_type": "code",
   "execution_count": null,
   "id": "ade5f3df-f74d-40fd-b346-b27354f2a6f8",
   "metadata": {},
   "outputs": [],
   "source": [
    "import os\n",
    "import pandas as pd\n",
    "import plotly.graph_objects as go\n",
    "from plotly.subplots import make_subplots\n",
    "from IPython.display import display, HTML\n",
    "\n",
    "# Make sure folders exist\n",
    "os.makedirs(\"visuals\", exist_ok=True)\n",
    "\n",
    "def make_graph(stock_data, revenue_data, stock):\n",
    "    fig = make_subplots(\n",
    "        rows=2, cols=1, shared_xaxes=True, \n",
    "        subplot_titles=(\"Historical Share Price\", \"Historical Revenue\"), \n",
    "        vertical_spacing=.3\n",
    "    )\n",
    "    \n",
    "    stock_data_specific = stock_data[stock_data.Date <= '2021-06-14']\n",
    "    revenue_data_specific = revenue_data[revenue_data.Date <= '2021-04-30']\n",
    "\n",
    "    fig.add_trace(go.Scatter(\n",
    "        x=pd.to_datetime(stock_data_specific.Date), \n",
    "        y=stock_data_specific.Close.astype(\"float\"), \n",
    "        name=\"Share Price\"\n",
    "    ), row=1, col=1)\n",
    "\n",
    "    fig.add_trace(go.Scatter(\n",
    "        x=pd.to_datetime(revenue_data_specific.Date), \n",
    "        y=revenue_data_specific.Revenue.astype(\"float\"), \n",
    "        name=\"Revenue\"\n",
    "    ), row=2, col=1)\n",
    "\n",
    "    fig.update_layout(\n",
    "        showlegend=False,\n",
    "        height=900,\n",
    "        title=stock,\n",
    "        xaxis_rangeslider_visible=True\n",
    "    )\n",
    "\n",
    "    # Format filename\n",
    "    clean_name = stock.lower().replace(\" \", \"_\")\n",
    "\n",
    "    # Save as HTML\n",
    "    html_path = f\"../visuals/{clean_name}_graph.html\"\n",
    "    fig.write_html(html_path)\n",
    "\n",
    "    # Save as PNG (requires kaleido)\n",
    "    png_path = f\"../visuals/{clean_name}_graph.png\"\n",
    "    fig.write_image(png_path, format=\"png\", scale=2)\n",
    "\n",
    "    # Display inside notebook\n",
    "    display(HTML(fig.to_html()))\n"
   ]
  },
  {
   "cell_type": "code",
   "execution_count": null,
   "id": "df52150b-d08b-427a-8cdf-9e773241708d",
   "metadata": {},
   "outputs": [],
   "source": [
    "import os\n",
    "\n",
    "# Create folders if they don't exist\n",
    "os.makedirs(\"../outputs\", exist_ok=True)\n",
    "os.makedirs(\"../visuals\", exist_ok=True)\n"
   ]
  },
  {
   "cell_type": "markdown",
   "id": "68557275-34c1-438e-9876-91e50d5dcd6f",
   "metadata": {},
   "source": [
    "Use the make_graph function that we’ve already defined. You’ll need to invoke it in questions 5 and 6 to display the graphs and create the dashboard. \n",
    "> **Note: You don’t need to redefine the function for plotting graphs anywhere else in this notebook; just use the existing function.**\n"
   ]
  },
  {
   "cell_type": "markdown",
   "id": "a6f90450-dec7-4cfc-a52f-137be072e77f",
   "metadata": {},
   "source": [
    "## Question 1: Use yfinance to Extract Stock Data\n"
   ]
  },
  {
   "cell_type": "markdown",
   "id": "9ec26c5e-5455-49f6-90fc-bf7c053323d1",
   "metadata": {},
   "source": [
    "Using the `Ticker` function enter the ticker symbol of the stock we want to extract data on to create a ticker object. The stock is Tesla and its ticker symbol is `TSLA`.\n"
   ]
  },
  {
   "cell_type": "code",
   "execution_count": null,
   "id": "808ae7b0-9562-4f96-ba8f-fbaf61f7bc34",
   "metadata": {},
   "outputs": [],
   "source": [
    "tesla = yf.Ticker(\"TSLA\")"
   ]
  },
  {
   "cell_type": "markdown",
   "id": "036c1e68-6767-4d67-a852-ef01f1cbb722",
   "metadata": {},
   "source": [
    "Using the ticker object and the function `history` extract stock information and save it in a dataframe named `tesla_data`. Set the `period` parameter to ` \"max\" ` so we get information for the maximum amount of time.\n"
   ]
  },
  {
   "cell_type": "code",
   "execution_count": null,
   "id": "1416648f-fbf6-45cd-9a02-5d3c7e62b4cf",
   "metadata": {},
   "outputs": [],
   "source": [
    "tesla.info\n",
    "tesla_data = tesla.history(period = \"max\")\n",
    "\n"
   ]
  },
  {
   "cell_type": "markdown",
   "id": "e21cd9e8-9059-4717-9fc7-e756a5553fba",
   "metadata": {},
   "source": [
    "**Reset the index** using the `reset_index(inplace=True)` function on the tesla_data DataFrame and display the first five rows of the `tesla_data` dataframe using the `head` function. Take a screenshot of the results and code from the beginning of Question 1 to the results below.\n"
   ]
  },
  {
   "cell_type": "code",
   "execution_count": null,
   "id": "675051e3-dbc3-441f-a709-7ffdeff20124",
   "metadata": {},
   "outputs": [],
   "source": [
    "tesla_data.reset_index(inplace= True)\n",
    "tesla_data.head()\n",
    "# del tesla_data\n",
    "\n",
    "tesla_data.to_csv(\"../outputs/tesla_data.csv\", index=False)"
   ]
  },
  {
   "cell_type": "markdown",
   "id": "48682b5d-8037-4fb1-ad88-f57416ce6fe7",
   "metadata": {},
   "source": [
    "## Question 2: Use Webscraping to Extract Tesla Revenue Data\n"
   ]
  },
  {
   "cell_type": "markdown",
   "id": "8012a8eb-4329-4d40-a298-59cc5dbb65c5",
   "metadata": {},
   "source": [
    "Use the `requests` library to download the webpage https://cf-courses-data.s3.us.cloud-object-storage.appdomain.cloud/IBMDeveloperSkillsNetwork-PY0220EN-SkillsNetwork/labs/project/revenue.htm Save the text of the response as a variable named `html_data`.\n"
   ]
  },
  {
   "cell_type": "code",
   "execution_count": null,
   "id": "a9a26720-eb3a-4a67-9a2d-668f46d4a291",
   "metadata": {},
   "outputs": [],
   "source": [
    "\n",
    "url= \"https://cf-courses-data.s3.us.cloud-object-storage.appdomain.cloud/IBMDeveloperSkillsNetwork-PY0220EN-SkillsNetwork/labs/project/revenue.htm\"\n",
    "html_data = requests.get(url).text\n",
    "\n"
   ]
  },
  {
   "cell_type": "markdown",
   "id": "3aa1830f-2480-4594-9ea5-83166f780aa2",
   "metadata": {},
   "source": [
    "Parse the html data using `beautiful_soup` using parser i.e `html5lib` or `html.parser`.\n"
   ]
  },
  {
   "cell_type": "code",
   "execution_count": null,
   "id": "16d6ce1a-7a61-4f53-bbab-7b77db3dccd8",
   "metadata": {},
   "outputs": [],
   "source": [
    "data = BeautifulSoup(html_data, \"html.parser\")"
   ]
  },
  {
   "cell_type": "markdown",
   "id": "bd75f69d-315f-4262-8aa3-80c7aa11486f",
   "metadata": {},
   "source": [
    "Using `BeautifulSoup` or the `read_html` function extract the table with `Tesla Revenue` and store it into a dataframe named `tesla_revenue`. The dataframe should have columns `Date` and `Revenue`.\n"
   ]
  },
  {
   "cell_type": "markdown",
   "id": "170ef8f5-5fa6-4053-97d6-dfff956d9b28",
   "metadata": {},
   "source": [
    "<details><summary>Step-by-step instructions</summary>\n",
    "\n",
    "```\n",
    "\n",
    "Here are the step-by-step instructions:\n",
    "\n",
    "1. Create an Empty DataFrame\n",
    "2. Find the Relevant Table\n",
    "3. Check for the Tesla Quarterly Revenue Table\n",
    "4. Iterate Through Rows in the Table Body\n",
    "5. Extract Data from Columns\n",
    "6. Append Data to the DataFrame\n",
    "\n",
    "```\n",
    "</details>\n"
   ]
  },
  {
   "cell_type": "markdown",
   "id": "03baf709-012f-4876-a8d9-428c2b1e1baf",
   "metadata": {},
   "source": [
    "<details><summary>Click here if you need help locating the table</summary>\n",
    "\n",
    "```\n",
    "    \n",
    "Below is the code to isolate the table, you will now need to loop through the rows and columns like in the previous lab\n",
    "    \n",
    "soup.find_all(\"tbody\")[1]\n",
    "    \n",
    "If you want to use the read_html function the table is located at index 1\n",
    "\n",
    "We are focusing on quarterly revenue in the lab.\n",
    "```\n",
    "\n",
    "</details>\n"
   ]
  },
  {
   "cell_type": "code",
   "execution_count": null,
   "id": "8a449522-3628-40d2-8268-e136f74ad053",
   "metadata": {},
   "outputs": [],
   "source": [
    "#using BeautifulSoup\n",
    "tables = data.find_all(\"table\")\n",
    "for table in tables:\n",
    "    if table.find(\"th\") and \"Tesla Quarterly Revenue\".lower() in table.find(\"th\").text.lower():\n",
    "        tesla_revenue_table = table\n",
    "        break\n",
    "\n",
    "column_names= [\"Date\", \"Revenue\"]\n",
    "rows = tesla_revenue_table.find(\"tbody\").find_all(\"tr\")\n",
    "data_list = []\n",
    "for row in rows:\n",
    "    cols= row.find_all(\"td\")\n",
    "    col = [ele.text.strip() for ele in cols]\n",
    "    data_list.append(col)\n",
    "tesla_revenue = pd.DataFrame(data_list, columns=column_names)\n",
    "\n",
    "tesla_revenue[column_names[0]] = pd.to_datetime(df[column_names[0]])\n",
    "tesla_revenue[column_names[1]] = tesla_revenue[column_names[1]].str.replace(\"$\", \"\").str.replace(\",\", \"\")\n",
    "tesla_revenue[column_names[1]] = pd.to_numeric(df[column_names[1]], errors=\"coerce\")\n",
    "\n",
    "tesla_revenue.head()"
   ]
  },
  {
   "cell_type": "code",
   "execution_count": null,
   "id": "a4321760-3336-41ae-93c9-4a4dae08ec7a",
   "metadata": {},
   "outputs": [],
   "source": [
    "#Using read.html\n",
    "# Step 1: Read all tables from the URL\n",
    "url = \"https://cf-courses-data.s3.us.cloud-object-storage.appdomain.cloud/IBMDeveloperSkillsNetwork-PY0220EN-SkillsNetwork/labs/project/revenue.htm\"\n",
    "tables = pd.read_html(url)\n",
    "\n",
    "# Step 2: Locate the Tesla Quarterly Revenue table by inspecting the column name\n",
    "tesla_revenue = None\n",
    "for i, table in enumerate(tables):\n",
    "    print(table.columns[0])\n",
    "    if \"Tesla Quarterly Revenue\" in str(table.columns[0]):\n",
    "        tesla_revenue = table\n",
    "        print(f\"Tesla revenue table found at index {i}\")\n",
    "        break\n",
    "\n",
    "# Step 3: Rename columns to \"Date\" and \"Revenue\"\n",
    "tesla_revenue.columns = [\"Date\", \"Revenue\"]\n"
   ]
  },
  {
   "cell_type": "markdown",
   "id": "aadc5f28-e28d-4943-9a91-5a622fa22bfe",
   "metadata": {},
   "source": [
    "Execute the following line to remove the comma and dollar sign from the `Revenue` column. \n"
   ]
  },
  {
   "cell_type": "code",
   "execution_count": null,
   "id": "d60b66d1-caff-4c88-b7f1-c24050553334",
   "metadata": {},
   "outputs": [],
   "source": [
    "# Step 4: Clean the Revenue column (remove \"$\" and \",\" then convert to float)\n",
    "tesla_revenue[\"Revenue\"] = tesla_revenue['Revenue'].str.replace(',|\\$',\"\",regex=True)\n",
    "# tesla_revenue[\"Revenue\"] = pd.to_numeric(tesla_revenue[\"Revenue\"], errors=\"coerce\")\n",
    "\n",
    "# Step 5: Convert Date column to datetime\n",
    "# tesla_revenue[\"Date\"] = pd.to_datetime(tesla_revenue[\"Date\"], errors=\"coerce\")"
   ]
  },
  {
   "cell_type": "markdown",
   "id": "44cf4fdb-73e2-4dca-aa8c-66d0041ae913",
   "metadata": {},
   "source": [
    "Execute the following lines to remove an null or empty strings in the Revenue column.\n"
   ]
  },
  {
   "cell_type": "code",
   "execution_count": null,
   "id": "f9903836-54fe-4e28-9697-2ae01e093773",
   "metadata": {},
   "outputs": [],
   "source": [
    "# Step 6: Drop rows with missing values (optional)\n",
    "tesla_revenue.dropna(inplace=True)\n",
    "\n",
    "tesla_revenue = tesla_revenue[tesla_revenue['Revenue'] != \"\"]"
   ]
  },
  {
   "cell_type": "markdown",
   "id": "b0ca17aa-98c4-474e-8059-e113a5423206",
   "metadata": {},
   "source": [
    "Display the last 5 row of the `tesla_revenue` dataframe using the `tail` function. Take a screenshot of the results.\n"
   ]
  },
  {
   "cell_type": "code",
   "execution_count": null,
   "id": "e7565638-eb8b-4af4-bacd-00eb7809f517",
   "metadata": {},
   "outputs": [],
   "source": [
    "# Step 7: Preview the result\n",
    "tesla_revenue.to_csv(\"../outputs/tesla_revenue.csv\", index=False)\n",
    "\n",
    "tesla_revenue.tail()"
   ]
  },
  {
   "cell_type": "markdown",
   "id": "9424f258-b191-4797-a214-475c4b176a80",
   "metadata": {},
   "source": [
    "## Question 3: Use yfinance to Extract Stock Data\n"
   ]
  },
  {
   "cell_type": "markdown",
   "id": "c0bb9460-4d96-4b6d-9d48-f0ad7c8d5e88",
   "metadata": {},
   "source": [
    "Using the `Ticker` function enter the ticker symbol of the stock we want to extract data on to create a ticker object. The stock is GameStop and its ticker symbol is `GME`.\n"
   ]
  },
  {
   "cell_type": "code",
   "execution_count": null,
   "id": "ee6adcd0-b99e-4668-ba9d-42181bc7829a",
   "metadata": {},
   "outputs": [],
   "source": [
    "gme= yf.Ticker(\"GME\")"
   ]
  },
  {
   "cell_type": "markdown",
   "id": "9707448b-9356-4be7-a313-5e80f5a58bda",
   "metadata": {},
   "source": [
    "Using the ticker object and the function `history` extract stock information and save it in a dataframe named `gme_data`. Set the `period` parameter to ` \"max\" ` so we get information for the maximum amount of time.\n"
   ]
  },
  {
   "cell_type": "code",
   "execution_count": null,
   "id": "931cd781-5ecf-438c-aeaa-8702fc502693",
   "metadata": {},
   "outputs": [],
   "source": [
    "gme_data = gme.history(period = \"max\")"
   ]
  },
  {
   "cell_type": "markdown",
   "id": "9a46bd27-f976-4d1b-9545-275a6d296496",
   "metadata": {},
   "source": [
    "**Reset the index** using the `reset_index(inplace=True)` function on the gme_data DataFrame and display the first five rows of the `gme_data` dataframe using the `head` function. Take a screenshot of the results and code from the beginning of Question 3 to the results below.\n"
   ]
  },
  {
   "cell_type": "code",
   "execution_count": null,
   "id": "ebd82c69-ef79-47e1-9560-7123beda223f",
   "metadata": {},
   "outputs": [],
   "source": [
    "gme_data.reset_index(inplace = True)\n",
    "\n",
    "gme_data.to_csv(\"../outputs/gme_data.csv\", index=False)\n",
    "\n",
    "\n",
    "gme_data.head()"
   ]
  },
  {
   "cell_type": "markdown",
   "id": "0b358dba-6463-4764-858a-118b2a5d12b3",
   "metadata": {},
   "source": [
    "## Question 4: Use Webscraping to Extract GME Revenue Data\n"
   ]
  },
  {
   "cell_type": "markdown",
   "id": "4a51e0fa-f11b-47d3-b990-3e971125a5a5",
   "metadata": {},
   "source": [
    "Use the `requests` library to download the webpage https://cf-courses-data.s3.us.cloud-object-storage.appdomain.cloud/IBMDeveloperSkillsNetwork-PY0220EN-SkillsNetwork/labs/project/stock.html. Save the text of the response as a variable named `html_data_2`.\n"
   ]
  },
  {
   "cell_type": "code",
   "execution_count": null,
   "id": "869e8a56-8433-448d-aa42-382d8fef7873",
   "metadata": {},
   "outputs": [],
   "source": [
    "url2 = \"https://cf-courses-data.s3.us.cloud-object-storage.appdomain.cloud/IBMDeveloperSkillsNetwork-PY0220EN-SkillsNetwork/labs/project/stock.html\"\n",
    "html_data_2 = requests.get(url2).text"
   ]
  },
  {
   "cell_type": "markdown",
   "id": "5e878f70-fae7-4b25-b705-4336cd199833",
   "metadata": {},
   "source": [
    "Parse the html data using `beautiful_soup` using parser i.e `html5lib` or `html.parser`.\n"
   ]
  },
  {
   "cell_type": "code",
   "execution_count": null,
   "id": "3b8f49fa-fb13-40a7-82c7-c61709267266",
   "metadata": {},
   "outputs": [],
   "source": [
    "response = BeautifulSoup(html_data_2, \"html.parser\")\n",
    "gme_table= response.find_all(\"table\")\n"
   ]
  },
  {
   "cell_type": "markdown",
   "id": "2f536ad4-e0d2-4d65-a303-43454ebfaca9",
   "metadata": {},
   "source": [
    "Using `BeautifulSoup` or the `read_html` function extract the table with `GameStop Revenue` and store it into a dataframe named `gme_revenue`. The dataframe should have columns `Date` and `Revenue`. Make sure the comma and dollar sign is removed from the `Revenue` column.\n"
   ]
  },
  {
   "cell_type": "markdown",
   "id": "ffe4304a-3262-4a93-ac85-1e2aef3f4579",
   "metadata": {},
   "source": [
    "> **Note: Use the method similar to what you did in question 2.**  \n"
   ]
  },
  {
   "cell_type": "markdown",
   "id": "e6a6710f-6480-46e2-8711-b8b9859b5246",
   "metadata": {},
   "source": [
    "<details><summary>Click here if you need help locating the table</summary>\n",
    "\n",
    "```\n",
    "    \n",
    "Below is the code to isolate the table, you will now need to loop through the rows and columns like in the previous lab\n",
    "    \n",
    "soup.find_all(\"tbody\")[1]\n",
    "    \n",
    "If you want to use the read_html function the table is located at index 1\n",
    "\n",
    "\n",
    "```\n",
    "\n",
    "</details>\n"
   ]
  },
  {
   "cell_type": "code",
   "execution_count": null,
   "id": "bab247f5-0bb5-4774-9361-bbe7206655c7",
   "metadata": {},
   "outputs": [],
   "source": [
    "gme_tables= pd.read_html(url2)\n",
    "\n",
    "gme_revenue = None\n",
    "\n",
    "for i, table in enumerate(gme_tables):\n",
    "    if \"gameStop Quarterly Revenue\".lower() in str(table.columns[0]).lower():\n",
    "        gme_revenue = table\n",
    "        print(f\"gme revenue table found at index{i}\")\n",
    "        break\n",
    "\n",
    "gme_revenue.columns = [\"Date\",\"Revenue\"]\n",
    "gme_revenue[\"Revenue\"] = gme_revenue[\"Revenue\"].replace('[\\$,]', '', regex=True)\n",
    "# gme_revenue[\"Revenue\"] = pd.to_numeric(gme_revenue[\"Revenue\"], errors=\"coerce\")\n",
    "\n",
    "gme_revenue.dropna(inplace= True)\n",
    "gme_revenue = gme_revenue[gme_revenue['Revenue'] != \"\"]\n",
    "gme_revenue.to_csv(\"../outputs/gme_revenue.csv\", index=False)\n",
    "gme_revenue.head()\n"
   ]
  },
  {
   "cell_type": "markdown",
   "id": "2538a6ba-6916-471a-b618-f661324c949d",
   "metadata": {},
   "source": [
    "Display the last five rows of the `gme_revenue` dataframe using the `tail` function. Take a screenshot of the results.\n"
   ]
  },
  {
   "cell_type": "code",
   "execution_count": null,
   "id": "c08cc1df-9cff-4e86-a9cc-a5ec1358259e",
   "metadata": {},
   "outputs": [],
   "source": [
    "gme_revenue.tail()"
   ]
  },
  {
   "cell_type": "markdown",
   "id": "ac3937c7-1f0d-4cb4-b50f-4a03b602c4be",
   "metadata": {},
   "source": [
    "## Question 5: Plot Tesla Stock Graph\n"
   ]
  },
  {
   "cell_type": "markdown",
   "id": "76928620-3ecd-4d3b-858c-6b77957e8c28",
   "metadata": {},
   "source": [
    "Use the `make_graph` function to graph the Tesla Stock Data, also provide a title for the graph. Note the graph will only show data upto June 2021.\n"
   ]
  },
  {
   "cell_type": "markdown",
   "id": "1b4d0712-98ea-49f3-8026-e8e29745eb2a",
   "metadata": {},
   "source": [
    "<details><summary>Hint</summary>\n",
    "\n",
    "```\n",
    "\n",
    "You just need to invoke the make_graph function with the required parameter to print the graphs.The structure to call the `make_graph` function is `make_graph(tesla_data, tesla_revenue, 'Tesla')`.\n",
    "\n",
    "```\n",
    "    \n",
    "</details>\n"
   ]
  },
  {
   "cell_type": "code",
   "execution_count": null,
   "id": "2e93368d-df6e-4f89-92a9-2c8dda88f292",
   "metadata": {},
   "outputs": [],
   "source": [
    "make_graph(tesla_data,tesla_revenue,'Tesla')"
   ]
  },
  {
   "cell_type": "markdown",
   "id": "de316742-d99a-4d0f-a053-d270ed5c7fdb",
   "metadata": {},
   "source": [
    "## Question 6: Plot GameStop Stock Graph\n"
   ]
  },
  {
   "cell_type": "markdown",
   "id": "d861ab9f-6360-4628-8ea6-6a02a9f85b78",
   "metadata": {},
   "source": [
    "Use the `make_graph` function to graph the GameStop Stock Data, also provide a title for the graph. The structure to call the `make_graph` function is `make_graph(gme_data, gme_revenue, 'GameStop')`. Note the graph will only show data upto June 2021.\n"
   ]
  },
  {
   "cell_type": "markdown",
   "id": "39a33a09-37e1-4330-b9d3-0d0fbc00db2a",
   "metadata": {},
   "source": [
    "<details><summary>Hint</summary>\n",
    "\n",
    "```\n",
    "\n",
    "You just need to invoke the make_graph function with the required parameter to print the graphs.The structure to call the `make_graph` function is `make_graph(gme_data, gme_revenue, 'GameStop')`\n",
    "\n",
    "```\n",
    "    \n",
    "</details>\n"
   ]
  },
  {
   "cell_type": "code",
   "execution_count": null,
   "id": "4acad7a5-17c8-4a14-899c-2144837cb710",
   "metadata": {},
   "outputs": [],
   "source": [
    "make_graph(gme_data, gme_revenue, 'GameStop')"
   ]
  },
  {
   "cell_type": "markdown",
   "id": "e4b7184e-ba4a-4a19-b574-98e3af42c881",
   "metadata": {},
   "source": [
    "<h2>About the Authors:</h2> \n",
    "\n",
    "<a href=\"https://www.linkedin.com/in/joseph-s-50398b136/\">Joseph Santarcangelo</a> has a PhD in Electrical Engineering, his research focused on using machine learning, signal processing, and computer vision to determine how videos impact human cognition. Joseph has been working for IBM since he completed his PhD.\n",
    "\n",
    "Azim Hirjani\n"
   ]
  },
  {
   "cell_type": "markdown",
   "id": "3ba4d96d-9ec5-419d-902f-1c0a67850cc2",
   "metadata": {},
   "source": [
    "## Change Log\n",
    "\n",
    "| Date (YYYY-MM-DD) | Version | Changed By    | Change Description        |\n",
    "| ----------------- | ------- | ------------- | ------------------------- |\n",
    "| 2022-02-28        | 1.2     | Lakshmi Holla | Changed the URL of GameStop |\n",
    "| 2020-11-10        | 1.1     | Malika Singla | Deleted the Optional part |\n",
    "| 2020-08-27        | 1.0     | Malika Singla | Added lab to GitLab       |\n",
    "\n",
    "<hr>\n",
    "\n",
    "## <h3 align=\"center\"> © IBM Corporation 2020. All rights reserved. <h3/>\n",
    "\n",
    "<p>\n"
   ]
  }
 ],
 "metadata": {
  "kernelspec": {
   "display_name": "Python 3",
   "language": "python",
   "name": "python3"
  },
  "language_info": {
   "name": "python",
   "version": "3.8"
  },
  "prev_pub_hash": "a254c181ff89ab7bfd41849357df0b3716744f3a6dc743cb8ee1d0c6ffe92fcd"
 },
 "nbformat": 4,
 "nbformat_minor": 4
}
